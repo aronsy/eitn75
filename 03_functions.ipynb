{
 "cells": [
  {
   "cell_type": "markdown",
   "metadata": {},
   "source": [
    "# Functions/methods\n",
    "\n",
    "To define a funtion the keyword `def` is used. It is easiest to explain with a simple example.\n",
    "You have to declare the functions _before_ they are used."
   ]
  },
  {
   "cell_type": "code",
   "execution_count": 1,
   "metadata": {},
   "outputs": [
    {
     "data": {
      "text/plain": [
       "9"
      ]
     },
     "execution_count": 1,
     "metadata": {},
     "output_type": "execute_result"
    }
   ],
   "source": [
    "# use the 'def' keyword follow by the name of the function. \n",
    "# In parenthesis the arguments for the function are put, if any. Can be empty.\n",
    "# To end the declaration one typ ':'.\n",
    "# Do NOT forget to indent the code.\n",
    "def power_of_two(x):\n",
    "    return x**2\n",
    "\n",
    "power_of_two(3)"
   ]
  },
  {
   "cell_type": "code",
   "execution_count": 2,
   "metadata": {},
   "outputs": [
    {
     "name": "stdout",
     "output_type": "stream",
     "text": [
      "Hello World!\n"
     ]
    }
   ],
   "source": [
    "# If the function doesn't return anything (e.g. Java void) you can omit the 'return' statement\n",
    "def print_hello_world():\n",
    "    print('Hello World!')\n",
    "\n",
    "print_hello_world()"
   ]
  },
  {
   "cell_type": "code",
   "execution_count": 3,
   "metadata": {},
   "outputs": [
    {
     "name": "stdout",
     "output_type": "stream",
     "text": [
      "a = 2\t b = 4\n"
     ]
    }
   ],
   "source": [
    "# You can return more than one result\n",
    "def return_more_than_one(x, y):\n",
    "    return 2*x, y**2\n",
    "\n",
    "a, b = return_more_than_one(1, 2)\n",
    "\n",
    "print('a = {}\\t b = {}'.format(a, b))"
   ]
  },
  {
   "cell_type": "code",
   "execution_count": null,
   "metadata": {},
   "outputs": [],
   "source": []
  }
 ],
 "metadata": {
  "kernelspec": {
   "display_name": "Python 3",
   "language": "python",
   "name": "python3"
  },
  "language_info": {
   "codemirror_mode": {
    "name": "ipython",
    "version": 3
   },
   "file_extension": ".py",
   "mimetype": "text/x-python",
   "name": "python",
   "nbconvert_exporter": "python",
   "pygments_lexer": "ipython3",
   "version": "3.7.2"
  }
 },
 "nbformat": 4,
 "nbformat_minor": 2
}
