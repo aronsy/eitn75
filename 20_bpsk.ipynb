{
 "cells": [
  {
   "cell_type": "markdown",
   "metadata": {},
   "source": [
    "# BPSK - Binary Phase Shift Keying\n",
    "\n",
    "Let us first import the packages we will need.\n",
    "We'll need NumPy for arrays, and square-root, amongst other.\n",
    "And to plot the constellation we will need to import the matplotlib package."
   ]
  },
  {
   "cell_type": "code",
   "execution_count": 2,
   "metadata": {},
   "outputs": [],
   "source": [
    "import numpy as np\n",
    "import matplotlib.pyplot as plt"
   ]
  },
  {
   "cell_type": "markdown",
   "metadata": {},
   "source": [
    "## Mapping of bits to modulation coefficients\n",
    "Below we create an array containging the constellation points. In BPSK the points lie on the real axis in -1 and +1.\n",
    "Since indexing in python starts at 0, we will be smart here and let the position in the array correspond to the bit-values.\n",
    "\n",
    "```python\n",
    "# Here the index is 0; bin(0) = 0b0. Thus, the constellation point -1 corresponds to the bit 0.\n",
    "bpsk_constellation[0] = complex(-1, 0)\n",
    "\n",
    "# Here the index is 1; bin(1) = 0b1. Thus, the constellation point 1 corresponds to the bit 1.\n",
    "bpsk_constellation[1] = complex(1, 0)\n",
    "```"
   ]
  },
  {
   "cell_type": "code",
   "execution_count": 2,
   "metadata": {},
   "outputs": [],
   "source": [
    "bpsk_constellation = np.array([complex(-1, 0), complex(1, 0)])"
   ]
  },
  {
   "cell_type": "markdown",
   "metadata": {},
   "source": [
    "Next steps are to define how to modulate and demoudlate the symbols.\n",
    "The modulation is easy; to map the bit 0 one just needs to read the complex value at position 0. And conversely for a bit value of 1."
   ]
  },
  {
   "cell_type": "code",
   "execution_count": 3,
   "metadata": {},
   "outputs": [],
   "source": [
    "def bpsk_modulation(bits):\n",
    "    \"\"\"\n",
    "    \n",
    "    :param bits: Integer representation of the bits to be modulated. For BPSK Integer and Binary are the same.\n",
    "    :type bits: int\n",
    "    :return: The complex constellation symbol\n",
    "    :rtype: complex\n",
    "    \"\"\"\n",
    "    try:\n",
    "        return bpsk_constellation[bits]\n",
    "    except IndexError:\n",
    "        raise ValueError('{} is to large for this constellation.'.format(bin(bits)))"
   ]
  },
  {
   "cell_type": "markdown",
   "metadata": {},
   "source": [
    "De-modulation is often harder. But with BPSK a straight-forward way is to check in which half-plane the symbols lie in the complex plane."
   ]
  },
  {
   "cell_type": "code",
   "execution_count": 4,
   "metadata": {},
   "outputs": [],
   "source": [
    "def bpsk_demodulation(received_symbol):\n",
    "    \"\"\"\n",
    "    \n",
    "    :param received_symbol: The complex symbol to be demodulated.\n",
    "    :type received_symbol: complex\n",
    "    :return: The demodulated bits, represented as the corresponding Integer value.\n",
    "    :rtype: int\n",
    "    \"\"\"\n",
    "    if received_symbol.real >= 0:\n",
    "        return 1\n",
    "    else:\n",
    "        return 0"
   ]
  },
  {
   "cell_type": "markdown",
   "metadata": {},
   "source": [
    "## Plotting the mapping\n",
    "Below is a way to plot the constellation diagram. This is not restricted to BPSK. It will also plot the bits at each constellation point."
   ]
  },
  {
   "cell_type": "code",
   "execution_count": 5,
   "metadata": {},
   "outputs": [],
   "source": [
    "def plot_constellation(constellation, base=2):\n",
    "    \n",
    "    # Extract the x and y values for plotting\n",
    "    in_phase = [x.real for x in constellation]\n",
    "    quadrature = [y.imag for y in constellation]\n",
    "    \n",
    "    # The code word size, for BPSK = 1\n",
    "    code_word_size = int(np.log2(np.size(constellation)))\n",
    "\n",
    "    # Plot the constellatoin points\n",
    "    plt.figure()\n",
    "    plt.plot(in_phase, quadrature, 'o')\n",
    "    plt.title(\"Constellation diagram\")\n",
    "    plt.xlabel(\"In-phase\")\n",
    "    plt.ylabel(\"Quadrature\")\n",
    "    plt.grid(True)\n",
    "    \n",
    "    # The following snippet of code just adds strings to the plot\n",
    "    # with the bits the symbol is representing\n",
    "    count = 0\n",
    "    for symbol in constellation:\n",
    "        if base == 2:\n",
    "            plt_str = '{0:0{1:d}b}'.format(count, int(code_word_size))\n",
    "        if base == 10:\n",
    "            plt_str = '{0:d}'.format(count)\n",
    "        # x and y cordinates for the string are the real and imaginary parts of the symbol.\n",
    "        plt.text(symbol.real, symbol.imag, plt_str)\n",
    "        count += 1\n",
    "        \n",
    "    # Finally show the plot\n",
    "    plt.show()"
   ]
  },
  {
   "cell_type": "code",
   "execution_count": null,
   "metadata": {},
   "outputs": [],
   "source": [
    "%matplotlib notebook\n",
    "plot_constellation(bpsk_constellation)    "
   ]
  },
  {
   "cell_type": "code",
   "execution_count": null,
   "metadata": {},
   "outputs": [],
   "source": [
    "tx_bits = np.random.randint(0, 2, 1024)  # Create a vector with 1024 random bits to modulate\n",
    "tx_symbols = np.array([bpsk_modulation(bit) for bit in tx_bits])  # Map the bits onto BPSK symbols"
   ]
  },
  {
   "cell_type": "code",
   "execution_count": null,
   "metadata": {},
   "outputs": [],
   "source": [
    "rx_bits = np.array([bpsk_demodulation(symbol) for symbol in tx_symbols])"
   ]
  },
  {
   "cell_type": "code",
   "execution_count": null,
   "metadata": {},
   "outputs": [],
   "source": [
    "all(rx_bits == tx_bits)  # Are all the received bits the same as the transmitted?"
   ]
  },
  {
   "cell_type": "markdown",
   "metadata": {},
   "source": [
    "Now, the above example is not very intresting because there is no channel that corrupts or distorts the data. So, in the above tests just proves that the demodulation works as expected."
   ]
  },
  {
   "cell_type": "markdown",
   "metadata": {},
   "source": [
    "## Basis Pulses"
   ]
  },
  {
   "cell_type": "code",
   "execution_count": 3,
   "metadata": {},
   "outputs": [],
   "source": [
    "from scipy.fftpack import fft, fftshift"
   ]
  },
  {
   "cell_type": "code",
   "execution_count": null,
   "metadata": {},
   "outputs": [],
   "source": [
    "T = 1    # Symbol duration\n",
    "\n",
    "t = np.linspace(-3.0, 3.0, int(1.0e5))  # Time interval\n",
    "g = [(1 if (0 <= t_i <= T) else 0) for t_i in t]  # Rectangular pulse, length T\n",
    "\n",
    "f = fftshift(np.fft.fftfreq(len(t), t[1]-t[0]))\n",
    "G_f = fftshift(fft(g)) * (T / len(t))\n",
    "\n",
    "f_theo = np.linspace(-4, 4, int(1.0e3))\n",
    "x = np.pi * f_theo * T\n",
    "G_f_theo = T * np.sinc(x) * np.exp(-1j * x)"
   ]
  },
  {
   "cell_type": "code",
   "execution_count": 7,
   "metadata": {},
   "outputs": [
    {
     "data": {
      "text/plain": [
       "<matplotlib.legend.Legend at 0x7f8ea311bda0>"
      ]
     },
     "execution_count": 7,
     "metadata": {},
     "output_type": "execute_result"
    },
    {
     "data": {
      "image/png": "[encoded data removed]",
      "text/plain": [
       "<Figure size 864x432 with 2 Axes>"
      ]
     },
     "metadata": {
      "needs_background": "light"
     },
     "output_type": "display_data"
    }
   ],
   "source": [
    "%matplotlib inline\n",
    "plt.rcParams['figure.figsize'] = [12, 6]\n",
    "\n",
    "plt.figure()\n",
    "\n",
    "# Plot the basis function\n",
    "plt.subplot(1,2,1)\n",
    "plt.plot(t/T_s, g)\n",
    "plt.xlim(-4, 4)\n",
    "plt.grid(True)\n",
    "plt.xlabel(r'$t/T_s$', fontsize=14)\n",
    "plt.ylabel(r'$g_R(t)$', fontsize=14)\n",
    "\n",
    "# Plot the spectrum of the pulse\n",
    "plt.subplot(1,2,2)\n",
    "plt.plot(f * T_s, n<p.abs(G_f)/np.max(np.abs(G_f)), label=r'$FFT(g_R(t, T))$')\n",
    "plt.plot(f_theo*T_s, np.abs(G_f_theo)/T_s, label=r'$\\mathcal{F} g_R(t, T)$')\n",
    "plt.xlim(-4, 4)\n",
    "plt.grid(True)\n",
    "plt.xlabel(r'$f\\cdot T_s$', fontsize=14)\n",
    "plt.ylabel(r'$|G_R(f)| / T_s$', fontsize=14)\n",
    "plt.legend(prop={'size': 14})"
   ]
  },
  {
   "cell_type": "code",
   "execution_count": null,
   "metadata": {},
   "outputs": [],
   "source": []
  }
 ],
 "metadata": {
  "kernelspec": {
   "display_name": "Python 3",
   "language": "python",
   "name": "python3"
  },
  "language_info": {
   "codemirror_mode": {
    "name": "ipython",
    "version": 3
   },
   "file_extension": ".py",
   "mimetype": "text/x-python",
   "name": "python",
   "nbconvert_exporter": "python",
   "pygments_lexer": "ipython3",
   "version": "3.6.7"
  }
 },
 "nbformat": 4,
 "nbformat_minor": 2
}
