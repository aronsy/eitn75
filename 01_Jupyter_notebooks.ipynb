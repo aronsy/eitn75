{
 "cells": [
  {
   "cell_type": "markdown",
   "metadata": {},
   "source": [
    "# Jupyter notebooks"
   ]
  },
  {
   "cell_type": "markdown",
   "metadata": {},
   "source": [
    "## From Anaconda\n",
    "There is an option called Jupyter. Start that.\n",
    "\n",
    "## Linux / maxOS command line\n",
    "Go to the directory where you want to work.\n",
    "Then start the jupyter notebook server by typing\n",
    "```sh\n",
    "jupyter notebook\n",
    "```"
   ]
  },
  {
   "cell_type": "markdown",
   "metadata": {},
   "source": [
    "## The notebook UI\n",
    "The default web browser will open and load the Dashboard. In the below image, two notebooks already existed in the directory where we started.\n",
    "\n",
    "\n",
    "<a name=\"dashboard\"></a><img src=\"images/dashboard.png\" alt=\"Notebook Dashboard\" style=\"width:600px;\" />\n",
    "\n",
    "\n",
    "\n",
    "If you the click on one of those you will open that notebook and you can start to interact with it.\n",
    "On the top of the page/notebook you will see the Toolbar. From here you can control and execute either cell-by-cell or the whole notebook from top to bottom.\n",
    "\n",
    "\n",
    "<a name=\"notebook_toolbar\"></a><img src=\"images/notebook_toolbar.png\" alt=\"Notebook Toolbar\" style=\"width:600px;\" />\n",
    "\n",
    "\n",
    "To evaluate a cell you can either press __*Run*__ on the toolbar, or press __*Shift+Enter*__ wich will evaluate the current cell and jump to the next one. __*Ctrl+Enter*__ runs the current cell and keeps it in focus.\n",
    "\n",
    "If the you always want a fresh start, there is some options under the \"Kernel\"-menu."
   ]
  },
  {
   "cell_type": "code",
   "execution_count": null,
   "metadata": {},
   "outputs": [],
   "source": []
  }
 ],
 "metadata": {
  "kernelspec": {
   "display_name": "Python 3",
   "language": "python",
   "name": "python3"
  },
  "language_info": {
   "codemirror_mode": {
    "name": "ipython",
    "version": 3
   },
   "file_extension": ".py",
   "mimetype": "text/x-python",
   "name": "python",
   "nbconvert_exporter": "python",
   "pygments_lexer": "ipython3",
   "version": "3.6.7"
  }
 },
 "nbformat": 4,
 "nbformat_minor": 2
}
