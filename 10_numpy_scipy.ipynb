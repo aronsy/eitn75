{
 "cells": [
  {
   "cell_type": "markdown",
   "metadata": {},
   "source": [
    "# NumPy and SciPy\n",
    "\n",
    "NumPy and SciPy are essential packages when you work in scientific projects and need n-dimensional arrays, special functions (e.g., the Bessel function, erf, etc.), constants as pi and the speed of light in vacuum.\n",
    "\n",
    "For Matlab users, and for new NumPy/SciPy users there exists plenty of cheat sheets. One from [SciPy](https://docs.scipy.org/doc/numpy/user/numpy-for-matlab-users.html), and another from [DataCamp (pdf)](https://s3.amazonaws.com/assets.datacamp.com/blog_assets/Numpy_Python_Cheat_Sheet.pdf).\n",
    "\n",
    "# Installation\n",
    "## Anaconda (Windows, macOS, Ubuntu)\n",
    "In Anaconda it as easy as searching for the packages you want and select them for installation.\n",
    "\n",
    "## macOS and Linux\n",
    "Using the Python package manager, pip, you can install packages as follows:\n",
    "\n",
    "```sh\n",
    "pip3 install numpy scipy\n",
    "```\n",
    "\n",
    "## Including a package in Python\n",
    "To use a package in Python one must import it, much like you would have to in e.g., Java or C/C++. The keyword to use is `import`. See below for examples for different ways of importing packages."
   ]
  },
  {
   "cell_type": "code",
   "execution_count": 1,
   "metadata": {},
   "outputs": [
    {
     "name": "stdout",
     "output_type": "stream",
     "text": [
      "3.141592653589793\n"
     ]
    }
   ],
   "source": [
    "# The following will import NumPy and SciPy into the namespaces np and sp.\n",
    "import numpy as np\n",
    "import scipy as sp\n",
    "\n",
    "# To use the functions in either package one types\n",
    "print(np.pi)"
   ]
  },
  {
   "cell_type": "code",
   "execution_count": 2,
   "metadata": {},
   "outputs": [
    {
     "name": "stdout",
     "output_type": "stream",
     "text": [
      "[0.         3.14159265 6.28318531]\n",
      "[ 0.0000000e+00  1.2246468e-16 -2.4492936e-16]\n"
     ]
    }
   ],
   "source": [
    "# One can also only import specific functions if you wish\n",
    "from numpy import linspace, sin\n",
    "\n",
    "x = linspace(0, 2*np.pi, 3)\n",
    "y = sin(x)\n",
    "\n",
    "print(x)\n",
    "print(y)"
   ]
  },
  {
   "cell_type": "code",
   "execution_count": 3,
   "metadata": {},
   "outputs": [
    {
     "name": "stdout",
     "output_type": "stream",
     "text": [
      "'x' is of type <class 'numpy.ndarray'>\n",
      "'y' is of type <class 'numpy.ndarray'>\n"
     ]
    }
   ],
   "source": [
    "# Working with numpy, it will return a numpy ndarray\n",
    "print(\"'x' is of type {}\\n'y' is of type {}\".format(type(x), type(y)))"
   ]
  },
  {
   "cell_type": "code",
   "execution_count": 4,
   "metadata": {},
   "outputs": [
    {
     "data": {
      "text/plain": [
       "(-13.210734622114826-9.6597984166347j)"
      ]
     },
     "execution_count": 4,
     "metadata": {},
     "output_type": "execute_result"
    }
   ],
   "source": [
    "# Packages can have 'sub-packages'\n",
    "import scipy.special as spe  # Import special functions like Bessel and erf\n",
    "\n",
    "spe.erf(1.0 + 1j*2.3)  # The error function"
   ]
  },
  {
   "cell_type": "code",
   "execution_count": 5,
   "metadata": {},
   "outputs": [
    {
     "name": "stdout",
     "output_type": "stream",
     "text": [
      "299792458.0\n"
     ]
    }
   ],
   "source": [
    "# Import the speed of light in vacuum, and name it c0\n",
    "from scipy.constants import c as c0\n",
    "\n",
    "print(c0)"
   ]
  },
  {
   "cell_type": "markdown",
   "metadata": {},
   "source": [
    "## Working with arrays"
   ]
  },
  {
   "cell_type": "code",
   "execution_count": 6,
   "metadata": {},
   "outputs": [
    {
     "name": "stdout",
     "output_type": "stream",
     "text": [
      "[1.+0.j 2.+0.j 3.+0.j 4.+0.j]\n",
      "[[1. 2. 3.]\n",
      " [4. 5. 6.]]\n"
     ]
    }
   ],
   "source": [
    "# To create arrays\n",
    "a_array = np.array([1, 2, 3, 4], dtype=complex)\n",
    "\n",
    "print(a_array)\n",
    "\n",
    "# Matrix-like array with numpy\n",
    "mtr_array = np.array([[1,2,3], [4,5,6]], dtype=float)\n",
    "print(mtr_array)"
   ]
  },
  {
   "cell_type": "code",
   "execution_count": 7,
   "metadata": {},
   "outputs": [
    {
     "name": "stdout",
     "output_type": "stream",
     "text": [
      "some_bits = [1 0 0 0 0 1 0 0]\n",
      "other_bits = [0 0 1 0 0 1 0 1]\n"
     ]
    }
   ],
   "source": [
    "# np.random has all distributions of interest for us.\n",
    "# randint(low, high, size=None)   It's not inclusive high, i.e., [low, high)\n",
    "some_bits = np.random.randint(0, 2, size=8)   # Generate an array with 8 random integeres 0 or 1\n",
    "other_bits = np.random.randint(0, 2, size=8)  # Generate an array with 8 random integeres 0 or 1\n",
    "\n",
    "print('some_bits = {}'.format(some_bits))\n",
    "print('other_bits = {}'.format(other_bits))"
   ]
  },
  {
   "cell_type": "code",
   "execution_count": 8,
   "metadata": {},
   "outputs": [
    {
     "data": {
      "text/plain": [
       "array([False,  True, False,  True,  True,  True,  True, False])"
      ]
     },
     "execution_count": 8,
     "metadata": {},
     "output_type": "execute_result"
    }
   ],
   "source": [
    "some_bits == other_bits"
   ]
  },
  {
   "cell_type": "code",
   "execution_count": 9,
   "metadata": {},
   "outputs": [
    {
     "data": {
      "text/plain": [
       "array([1, 0, 1, 0, 0, 1, 0, 1])"
      ]
     },
     "execution_count": 9,
     "metadata": {},
     "output_type": "execute_result"
    }
   ],
   "source": [
    "some_bits | other_bits"
   ]
  },
  {
   "cell_type": "code",
   "execution_count": 10,
   "metadata": {},
   "outputs": [
    {
     "data": {
      "text/plain": [
       "array([0, 0, 0, 0, 0, 1, 0, 0])"
      ]
     },
     "execution_count": 10,
     "metadata": {},
     "output_type": "execute_result"
    }
   ],
   "source": [
    "np.bitwise_and(some_bits, other_bits)"
   ]
  },
  {
   "cell_type": "code",
   "execution_count": 11,
   "metadata": {},
   "outputs": [
    {
     "data": {
      "text/plain": [
       "array([1, 0, 1, 0, 0, 1, 0, 1])"
      ]
     },
     "execution_count": 11,
     "metadata": {},
     "output_type": "execute_result"
    }
   ],
   "source": [
    "np.bitwise_or(some_bits, other_bits)"
   ]
  },
  {
   "cell_type": "code",
   "execution_count": 12,
   "metadata": {},
   "outputs": [
    {
     "data": {
      "text/plain": [
       "array([1, 0, 1, 0, 0, 0, 0, 1])"
      ]
     },
     "execution_count": 12,
     "metadata": {},
     "output_type": "execute_result"
    }
   ],
   "source": [
    "np.bitwise_xor(some_bits, other_bits)"
   ]
  },
  {
   "cell_type": "markdown",
   "metadata": {},
   "source": [
    "The above arrays must not contain only 0 or 1, it can be any integer. Just as the bitwise operators in notebook 02."
   ]
  },
  {
   "cell_type": "code",
   "execution_count": null,
   "metadata": {},
   "outputs": [],
   "source": []
  }
 ],
 "metadata": {
  "kernelspec": {
   "display_name": "Python 3",
   "language": "python",
   "name": "python3"
  },
  "language_info": {
   "codemirror_mode": {
    "name": "ipython",
    "version": 3
   },
   "file_extension": ".py",
   "mimetype": "text/x-python",
   "name": "python",
   "nbconvert_exporter": "python",
   "pygments_lexer": "ipython3",
   "version": "3.7.2"
  }
 },
 "nbformat": 4,
 "nbformat_minor": 2
}
