{
 "cells": [
  {
   "cell_type": "markdown",
   "metadata": {},
   "source": [
    "# How to install python3 with pip and jupyter\n",
    "This tutorial will focus in Python 3.6+. This is because Python 2 will eventuallty be retired in 2020? [(countdown)](https://pythonclock.org/). For the Windows installation we will use Anaconda; but worth nothing that Anaconda also supports macOS and Linux.\n",
    "\n",
    "Both macOS and Linux come with Python pre-installed. On macOS Python 2.7 is installed, and on some Linux distributions Python 3 is also installed. Distributions like e.g. CentOS do NOT come with Python 3, but needs to be installed manually.\n",
    "\n",
    "- __Python 3__ - A lot of the following text is a summary of the [Python wikipedia page](https://en.wikipedia.org/wiki/Python_(programming_language)). Python is a high-level, interpreted, programming language. It is designed to be easy to read, and enforces a strict use on whitespace/tabs. What that means is that code has to be correctly indented. Python supports (among others) functional programming, object oriented programming, and procedural programming. One important aspect of Python is that it is _dynamically typed_, i.e. you do __not__ have to type `int`, `float`, `string` in front of variable declaration. The type of the variable is infered from the data.\n",
    "\n",
    "- __pip__ - \"pip is a package management system used to install and manage software packages written in Python. Most packages can be found on [pypi](https://pypi.org/).\"\n",
    "\n",
    "- __jupyter__ - Notebooks are a powerful way of working with both code and rich text formatting on one page. This tutorial is written in a jupyter notebook."
   ]
  },
  {
   "cell_type": "markdown",
   "metadata": {},
   "source": [
    "# Installation"
   ]
  },
  {
   "cell_type": "markdown",
   "metadata": {},
   "source": [
    "## 1. Windows\n",
    "Download [Anaconda](https://www.anaconda.com/); the Python 3.7+ version. This comes with everything you need. Follow the install instructions. Makes sure you choose to install jupyter as-well. Anaconda provides you with a graphical user interface where you can install the packages that you might need. After the installation you now have Python 3, pip, and jupyter."
   ]
  },
  {
   "cell_type": "markdown",
   "metadata": {},
   "source": [
    "## 2. macOS\n",
    "### 2.1. Anaconda\n",
    "Download [Anaconda](https://www.anaconda.com/); the Python 3.7+ version. This comes with everything you need. Follow the install instructions. Makes sure you choose to install jupyter as-well. Anaconda provides you with a graphical user interface where you can install the packages that you might need. After the installation you now have Python 3, pip, and jupyter.\n",
    "### 2.2 Homebrew\n",
    "Homebrew is the package management system missing in macOS. You can download and install it from [brew.sh](https://brew.sh/).\n",
    "\n",
    "```sh\n",
    "# Once installed, make sure that brew is up to date\n",
    "brew update && brew upgrade\n",
    "\n",
    "# After the update you can install Python 3 by running\n",
    "brew install python\n",
    "\n",
    "# Do I have a Python 3 installed?\n",
    "python3 --version\n",
    "```\n",
    "\n",
    "When you installed Python 3, Homebrew automatically installed pip. \n",
    "\n",
    "```sh\n",
    "pip3 -V\n",
    "\n",
    "# List the help\n",
    "pip3 help\n",
    "\n",
    "# List the packages installed on your system\n",
    "pip3 list\n",
    "\n",
    "# Next step is to make sure pip (and setuptools) are up to date. This is achieved by running\n",
    "pip3 install --upgrade pip setuptools\n",
    "```\n",
    "\n",
    "All that remains (for now) is to install jupyter:\n",
    "```sh\n",
    "# This will install jupyter and all of its dependencies\n",
    "pip3 install jupyter\n",
    "```"
   ]
  },
  {
   "cell_type": "markdown",
   "metadata": {},
   "source": [
    "## 3. Linux (Ubuntu)\n",
    "```sh\n",
    "# Do I have a Python 3 installed?\n",
    "python3 --version\n",
    "\n",
    "# If not, install it (as user with elevated privilages, sudo)\n",
    "# First make sure your system is up to date\n",
    "sudo apt update && sudo apt upgrade\n",
    "sudo apt install -y python3 python3-dev python3-pip\n",
    "\n",
    "# Do I have a Python 3 installed now then?\n",
    "python3 --version\n",
    "\n",
    "# Check that pip3 installed and is working\n",
    "pip3 -V\n",
    "\n",
    "# List the help\n",
    "pip3 help\n",
    "\n",
    "# List the packages installed on your system\n",
    "pip3 list\n",
    "\n",
    "# Next step is to make sure pip (and setuptools) are up to date. This is achieved by running.\n",
    "# The user option is to install it on a location where you most likely won't need elevated privilages.\n",
    "pip3 install --upgrade --user pip setuptools\n",
    "```\n",
    "\n",
    "All that remains (for now) is to install jupyter:\n",
    "```sh\n",
    "# This will install jupyter and all of its dependencies\n",
    "pip3 install jupyter\n",
    "```"
   ]
  }
 ],
 "metadata": {
  "kernelspec": {
   "display_name": "Python 3",
   "language": "python",
   "name": "python3"
  },
  "language_info": {
   "codemirror_mode": {
    "name": "ipython",
    "version": 3
   },
   "file_extension": ".py",
   "mimetype": "text/x-python",
   "name": "python",
   "nbconvert_exporter": "python",
   "pygments_lexer": "ipython3",
   "version": "3.6.7"
  }
 },
 "nbformat": 4,
 "nbformat_minor": 2
}
